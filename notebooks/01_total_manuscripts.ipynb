{
 "cells": [
  {
   "cell_type": "code",
   "execution_count": null,
   "id": "0ac51bf8-c10a-4f93-b052-1af62fc06adb",
   "metadata": {},
   "outputs": [],
   "source": [
    "import pandas as pd\n",
    "\n",
    "# Load the CSV file\n",
    "df = pd.read_csv(\"public/javanesemanuscriptbritishlibrarycollection.csv\")\n",
    "\n",
    "# Count unique manuscript IDs\n",
    "total_manuscripts = df[\"Manuscript ID\"].nunique()\n",
    "print(\"Total Number of Unique Manuscripts:\", total_manuscripts)\n"
   ]
  }
 ],
 "metadata": {
  "kernelspec": {
   "display_name": "Python 3 (ipykernel)",
   "language": "python",
   "name": "python3"
  },
  "language_info": {
   "codemirror_mode": {
    "name": "ipython",
    "version": 3
   },
   "file_extension": ".py",
   "mimetype": "text/x-python",
   "name": "python",
   "nbconvert_exporter": "python",
   "pygments_lexer": "ipython3",
   "version": "3.12.4"
  }
 },
 "nbformat": 4,
 "nbformat_minor": 5
}
