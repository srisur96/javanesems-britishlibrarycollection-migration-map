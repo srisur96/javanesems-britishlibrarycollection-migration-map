{
 "cells": [
  {
   "cell_type": "code",
   "execution_count": null,
   "id": "727831db-c12f-4d48-8488-d54aa51cadf6",
   "metadata": {},
   "outputs": [],
   "source": [
    "import pandas as pd\n",
    "import matplotlib.pyplot as plt\n",
    "import seaborn as sns\n",
    "\n",
    "# Load the CSV file\n",
    "df = pd.read_csv(\"public/javanesemanuscriptbritishlibrarycollection.csv\")\n",
    "\n",
    "# Count manuscripts grouped by place of origin\n",
    "from_place_counts = df.groupby(\"Manuscript ID\")[\"From Place\"].first().value_counts()\n",
    "\n",
    "# Plot\n",
    "plt.figure(figsize=(8, 5))\n",
    "sns.barplot(y=from_place_counts.index, x=from_place_counts.values, palette=\"Purples_d\")\n",
    "plt.title(\"Number of Manuscripts by Origin Location\")\n",
    "plt.xlabel(\"Number of Manuscripts\")\n",
    "plt.ylabel(\"From Place\")\n",
    "plt.tight_layout()\n",
    "plt.show()\n"
   ]
  }
 ],
 "metadata": {
  "kernelspec": {
   "display_name": "Python 3 (ipykernel)",
   "language": "python",
   "name": "python3"
  },
  "language_info": {
   "codemirror_mode": {
    "name": "ipython",
    "version": 3
   },
   "file_extension": ".py",
   "mimetype": "text/x-python",
   "name": "python",
   "nbconvert_exporter": "python",
   "pygments_lexer": "ipython3",
   "version": "3.12.4"
  }
 },
 "nbformat": 4,
 "nbformat_minor": 5
}
