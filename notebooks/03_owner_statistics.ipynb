{
 "cells": [
  {
   "cell_type": "code",
   "execution_count": null,
   "id": "08dc63d2-7ea5-4f24-ad6a-14a0d9473c3c",
   "metadata": {},
   "outputs": [],
   "source": [
    "import pandas as pd\n",
    "import matplotlib.pyplot as plt\n",
    "import seaborn as sns\n",
    "\n",
    "# Load the CSV file\n",
    "df = pd.read_csv(\"public/javanesemanuscriptbritishlibrarycollection.csv\")\n",
    "\n",
    "# Count manuscripts grouped by original owner\n",
    "from_owner_counts = df.groupby(\"Manuscript ID\")[\"From Owner\"].first().value_counts()\n",
    "\n",
    "# Plot\n",
    "plt.figure(figsize=(8, 5))\n",
    "sns.barplot(y=from_owner_counts.index, x=from_owner_counts.values, palette=\"Greens_d\")\n",
    "plt.title(\"Number of Manuscripts by Original Owner\")\n",
    "plt.xlabel(\"Number of Manuscripts\")\n",
    "plt.ylabel(\"From Owner\")\n",
    "plt.tight_layout()\n",
    "plt.show()\n"
   ]
  }
 ],
 "metadata": {
  "kernelspec": {
   "display_name": "Python 3 (ipykernel)",
   "language": "python",
   "name": "python3"
  },
  "language_info": {
   "codemirror_mode": {
    "name": "ipython",
    "version": 3
   },
   "file_extension": ".py",
   "mimetype": "text/x-python",
   "name": "python",
   "nbconvert_exporter": "python",
   "pygments_lexer": "ipython3",
   "version": "3.12.4"
  }
 },
 "nbformat": 4,
 "nbformat_minor": 5
}
