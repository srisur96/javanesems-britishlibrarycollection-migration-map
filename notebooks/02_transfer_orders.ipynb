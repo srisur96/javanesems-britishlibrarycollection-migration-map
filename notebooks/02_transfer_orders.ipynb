{
 "cells": [
  {
   "cell_type": "code",
   "execution_count": null,
   "id": "8f5bfe75-909f-4e4e-8091-0330c4d5cfa5",
   "metadata": {},
   "outputs": [],
   "source": [
    "import pandas as pd\n",
    "import matplotlib.pyplot as plt\n",
    "import seaborn as sns\n",
    "\n",
    "# Load the CSV file\n",
    "df = pd.read_csv(\"public/javanesemanuscriptbritishlibrarycollection.csv\")\n",
    "\n",
    "# Group by Manuscript ID and count how many transfer records each has\n",
    "transfer_counts = df.groupby(\"Manuscript ID\")[\"Transfer Order\"].count().value_counts().sort_index()\n",
    "\n",
    "# Plot\n",
    "plt.figure(figsize=(6, 4))\n",
    "sns.barplot(x=transfer_counts.index, y=transfer_counts.values, palette=\"Blues_d\")\n",
    "plt.title(\"Number of Manuscripts by Transfer Orders\")\n",
    "plt.xlabel(\"Number of Transfer Orders\")\n",
    "plt.ylabel(\"Number of Manuscripts\")\n",
    "plt.show()\n"
   ]
  }
 ],
 "metadata": {
  "kernelspec": {
   "display_name": "Python 3 (ipykernel)",
   "language": "python",
   "name": "python3"
  },
  "language_info": {
   "codemirror_mode": {
    "name": "ipython",
    "version": 3
   },
   "file_extension": ".py",
   "mimetype": "text/x-python",
   "name": "python",
   "nbconvert_exporter": "python",
   "pygments_lexer": "ipython3",
   "version": "3.12.4"
  }
 },
 "nbformat": 4,
 "nbformat_minor": 5
}
